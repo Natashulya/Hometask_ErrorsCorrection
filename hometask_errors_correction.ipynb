{
 "cells": [
  {
   "cell_type": "code",
   "execution_count": null,
   "id": "dc0fed66",
   "metadata": {},
   "outputs": [],
   "source": [
    "#Task1: Для каждой газеты из списка напишите формат указанной даты для перевода в объект datetime:\n",
    "The Moscow Times - Wednesday, October 2, 2002\n",
    "The Guardian - Friday, 11.10.13\n",
    "Daily News - Thursday, 18 August 1977"
   ]
  },
  {
   "cell_type": "code",
   "execution_count": null,
   "id": "048f4b4b",
   "metadata": {},
   "outputs": [],
   "source": [
    "#решения"
   ]
  },
  {
   "cell_type": "code",
   "execution_count": null,
   "id": "102464d9",
   "metadata": {},
   "outputs": [],
   "source": [
    "import date_converter\n",
    "converted_date = date_converter.string_to_datetime('Jun 1 2005', '%b %d %Y')"
   ]
  },
  {
   "cell_type": "code",
   "execution_count": null,
   "id": "38afdbbc",
   "metadata": {},
   "outputs": [],
   "source": [
    "import datetime\n",
    "date = datetime.date(int('11'),int('10'),int('13'))\n",
    "date\n",
    "datetime.date(11, 10, 13)\n",
    "type(date)\n",
    "type 'datetime.date'"
   ]
  },
  {
   "cell_type": "code",
   "execution_count": null,
   "id": "f3767131",
   "metadata": {},
   "outputs": [],
   "source": [
    "from dateutil.parser import *\n",
    "dates = []\n",
    "dates.append('11 10 13')\n",
    "dates.append('October 2 2002')\n",
    "dates.append('Agust 18 1977')\n",
    "[parser.parse(x) for x in dates]"
   ]
  },
  {
   "cell_type": "code",
   "execution_count": null,
   "id": "e4e6ca60",
   "metadata": {},
   "outputs": [],
   "source": [
    "def try_strptime(s, fmts=['%d-%b-%y','%m/%d/%Y']):\n",
    "    for fmt in fmts:\n",
    "        try:\n",
    "            return datetime.strptime(s, fmt)\n",
    "        except:\n",
    "            continue\n",
    "\n",
    "    return None # or reraise the ValueError if no format matched"
   ]
  },
  {
   "cell_type": "code",
   "execution_count": 2,
   "id": "5c1879a8",
   "metadata": {},
   "outputs": [],
   "source": [
    "#Task2"
   ]
  },
  {
   "cell_type": "code",
   "execution_count": null,
   "id": "95e49309",
   "metadata": {},
   "outputs": [],
   "source": [
    "#Напишите функцию, которая проверяет даты на корректность:  True (дата корректна) или False (некорректная дата)"
   ]
  },
  {
   "cell_type": "code",
   "execution_count": null,
   "id": "c867a4c5",
   "metadata": {},
   "outputs": [],
   "source": [
    "from datetime import datetime"
   ]
  },
  {
   "cell_type": "code",
   "execution_count": null,
   "id": "5f3b3d35",
   "metadata": {},
   "outputs": [],
   "source": [
    "stream = [\n",
    "    '2018-04-02', \n",
    "    '2018-02-29', \n",
    "    '2018-19-02']\n",
    "def check_date(list_date):\n",
    "    for date in list_date:\n",
    "        try:\n",
    "            valid_date = datetime.strptime(date, '%Y-%m-%d')\n",
    "            print(True)    \n",
    "        except ValueError:\n",
    "            print(False)\n",
    "check_date(stream)"
   ]
  },
  {
   "cell_type": "code",
   "execution_count": null,
   "id": "4b89b846",
   "metadata": {},
   "outputs": [],
   "source": [
    "#Task3 Напишите функцию date_range, которая возвращает список дат за период от start_date до end_date. Даты должны вводиться в формате YYYY-MM-DD"
   ]
  },
  {
   "cell_type": "code",
   "execution_count": null,
   "id": "4cba89df",
   "metadata": {},
   "outputs": [],
   "source": [
    "from datetime import timedelta\n",
    "from datetime import datetime\n",
    "start_date=input('Введите начальную дату в формате YYYY-MM-DD: ')\n",
    "end_date=input('Введите дату окончания в формате YYYY-MM-DD: ')\n",
    "def date_range(start, end):\n",
    "    start_datetime=datetime.strptime(start,'%Y-%m-%d')\n",
    "    end_datetime=datetime.strptime(end,'%Y-%m-%d')\n",
    "    days=[]\n",
    "    intermediate_datetime=start_datetime\n",
    "    while intermediate_datetime<=end_datetime:\n",
    "        intermediate_datetime=intermediate_datetime+timedelta(days=1)\n",
    "        print_datetime=datetime.strftime(intermediate_datetime,'%Y-%m-%d')\n",
    "        days.append(print_datetime)\n",
    "        #print(print_datetime)\n",
    "    return(days)\n",
    "date_range(start_date, end_date)"
   ]
  },
  {
   "cell_type": "code",
   "execution_count": null,
   "id": "ba96d448",
   "metadata": {},
   "outputs": [],
   "source": [
    "#В случае неверного формата или при start_date > end_date должен возвращаться пустой список"
   ]
  },
  {
   "cell_type": "code",
   "execution_count": null,
   "id": "8c03e049",
   "metadata": {},
   "outputs": [],
   "source": [
    "start_date=input('Введите начальную дату в формате YYYY-MM-DD: ')\n",
    "end_date=input('Введите дату окончания в формате YYYY-MM-DD: ')\n",
    "def date_range(start, end):\n",
    "    start_datetime=datetime.strptime(start,'%Y-%m-%d')\n",
    "    end_datetime=datetime.strptime(end,'%Y-%m-%d')\n",
    "    days=[]\n",
    "    if start_datetime<end_datetime:\n",
    "        intermediate_datetime=start_datetime\n",
    "        while intermediate_datetime<=end_datetime:\n",
    "            intermediate_datetime=intermediate_datetime+timedelta(days=1)\n",
    "            print_datetime=datetime.strftime(intermediate_datetime,'%Y-%m-%d')\n",
    "            days.append(print_datetime)\n",
    "        #print(print_datetime)\n",
    "    return(days)\n",
    "date_range(start_date, end_date)"
   ]
  },
  {
   "cell_type": "code",
   "execution_count": 1,
   "id": "b64a8485",
   "metadata": {},
   "outputs": [],
   "source": [
    "#Корректировка: возвращение пустого списка"
   ]
  },
  {
   "cell_type": "code",
   "execution_count": 2,
   "id": "57b68ef0",
   "metadata": {},
   "outputs": [
    {
     "name": "stdout",
     "output_type": "stream",
     "text": [
      "1 []\n",
      "2 []\n"
     ]
    }
   ],
   "source": [
    "from datetime import datetime, timedelta\n",
    "\n",
    "def date_range(start_date, end_date, date_format='%Y-%m-%d'):\n",
    "    result = []\n",
    "    try:\n",
    "        start_date_dt = datetime.strptime(start_date, date_format)\n",
    "        end_date_dt = datetime.strptime(end_date, date_format)\n",
    "    except:\n",
    "        return result\n",
    "\n",
    "    current_date_dt = start_date_dt\n",
    "    \n",
    "    while current_date_dt < end_date_dt:\n",
    "        result.append(current_date_dt.day)\n",
    "        current_date_dt += timedelta(days=1)\n",
    "        \n",
    "    return result\n",
    "    \n",
    "date_range('1999-01-28', '1999-02-05')\n",
    "print('1', date_range('1999-02-05', '1999-01-28'))\n",
    "print('2', date_range('1999-111-222', '1999-333-444'))"
   ]
  },
  {
   "cell_type": "code",
   "execution_count": null,
   "id": "e16ce8e6",
   "metadata": {},
   "outputs": [],
   "source": [
    "#Task4"
   ]
  },
  {
   "cell_type": "code",
   "execution_count": null,
   "id": "93074a48",
   "metadata": {},
   "outputs": [],
   "source": [
    "DEFAULT_USER_COUNT = 3\n",
    "def delete_and_return_last_user(region, default_list=['A100', 'A101', 'A102']):\n",
    "    \"\"\"\"\" Удаляет из списка default_list последнего пользователя и возвращает ID нового последнего пользователя. \"\"\" \n",
    "    element_to_delete = default_list[-1]\n",
    "    default_list.remove(element_to_delete)\n",
    "    return default_list[DEFAULT_USER_COUNT-2]"
   ]
  },
  {
   "cell_type": "code",
   "execution_count": null,
   "id": "4e8941f5",
   "metadata": {},
   "outputs": [],
   "source": [
    "delete_and_return_last_user(1)"
   ]
  },
  {
   "cell_type": "code",
   "execution_count": null,
   "id": "d8cf09d7",
   "metadata": {},
   "outputs": [],
   "source": [
    "#Correction"
   ]
  },
  {
   "cell_type": "code",
   "execution_count": null,
   "id": "af6ea3be",
   "metadata": {},
   "outputs": [],
   "source": [
    "DEFAULT_USER_COUNT = 3\n",
    "def delete_and_return_last_user(region, default_list=['A100', 'A101', 'A102']):\n",
    "    \"\"\"\"\" Удаляет из списка default_list последнего пользователя и возвращает ID нового последнего пользователя. \"\"\" \n",
    "    element_to_delete = default_list[-1]\n",
    "    default_list.remove(element_to_delete)\n",
    "    return default_list[-1]"
   ]
  },
  {
   "cell_type": "code",
   "execution_count": null,
   "id": "c0134577",
   "metadata": {},
   "outputs": [],
   "source": [
    "delete_and_return_last_user(1)"
   ]
  },
  {
   "cell_type": "code",
   "execution_count": null,
   "id": "15f17364",
   "metadata": {},
   "outputs": [],
   "source": []
  }
 ],
 "metadata": {
  "kernelspec": {
   "display_name": "Python 3",
   "language": "python",
   "name": "python3"
  },
  "language_info": {
   "codemirror_mode": {
    "name": "ipython",
    "version": 3
   },
   "file_extension": ".py",
   "mimetype": "text/x-python",
   "name": "python",
   "nbconvert_exporter": "python",
   "pygments_lexer": "ipython3",
   "version": "3.8.8"
  }
 },
 "nbformat": 4,
 "nbformat_minor": 5
}
